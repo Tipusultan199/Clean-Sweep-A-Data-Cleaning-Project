{
 "cells": [
  {
   "cell_type": "markdown",
   "id": "8562667d",
   "metadata": {},
   "source": [
    " ### Data prepossing and cleanning"
   ]
  },
  {
   "cell_type": "code",
   "execution_count": 25,
   "id": "38089a48",
   "metadata": {},
   "outputs": [],
   "source": [
    "import os"
   ]
  },
  {
   "cell_type": "code",
   "execution_count": 26,
   "id": "80a2f1af",
   "metadata": {},
   "outputs": [],
   "source": [
    "\n",
    "folder_directories = os.listdir('tipu/')\n",
    "file_directories= os.listdir(f'tipu/{folder_directories[1]}')\n"
   ]
  },
  {
   "cell_type": "code",
   "execution_count": 28,
   "id": "13d1dccf",
   "metadata": {},
   "outputs": [
    {
     "data": {
      "text/plain": [
       "['01-January', '02-February']"
      ]
     },
     "execution_count": 28,
     "metadata": {},
     "output_type": "execute_result"
    }
   ],
   "source": [
    "folder_directories"
   ]
  },
  {
   "cell_type": "code",
   "execution_count": 30,
   "id": "3312ad1f",
   "metadata": {},
   "outputs": [
    {
     "data": {
      "text/plain": [
       "['MIS of 02.02.2021.xlsx',\n",
       " 'MIS of 03.02.2021.xlsx',\n",
       " 'MIS of 04.02.2021.xlsx',\n",
       " 'MIS of 05.02.2021.xlsx',\n",
       " 'MIS of 06.02.2021.xlsx',\n",
       " 'MIS of 07.02.2021.xlsx',\n",
       " 'MIS of 08.02.2021.xlsx',\n",
       " 'MIS of 09.02.2021.xlsx',\n",
       " 'MIS of 10.02.2021.xlsx']"
      ]
     },
     "execution_count": 30,
     "metadata": {},
     "output_type": "execute_result"
    }
   ],
   "source": [
    "file_directories"
   ]
  },
  {
   "cell_type": "code",
   "execution_count": 31,
   "id": "f71328fe",
   "metadata": {},
   "outputs": [],
   "source": [
    "import glob\n",
    "import pandas as pd"
   ]
  },
  {
   "cell_type": "code",
   "execution_count": 34,
   "id": "5ed29f84",
   "metadata": {},
   "outputs": [
    {
     "name": "stdout",
     "output_type": "stream",
     "text": [
      "Exported complete file_2021-01-02.csv\n",
      "Exported complete file_2021-01-03.csv\n",
      "Exported complete file_2021-01-04.csv\n",
      "Exported complete file_2021-01-05.csv\n",
      "Exported complete file_2021-01-06.csv\n",
      "Exported complete file_2021-01-07.csv\n",
      "Exported complete file_2021-01-08.csv\n",
      "Exported complete file_2021-01-09.csv\n",
      "Exported complete file_2021-01-10.csv\n"
     ]
    },
    {
     "ename": "PermissionError",
     "evalue": "[Errno 13] Permission denied: 'C:/Users/Tipu Sultan/OneDrive/Desktop/Data Analyst Traning/21/dirty/tipu\\\\01-January\\\\~$MIS of 02.01.2021.xlsx'",
     "output_type": "error",
     "traceback": [
      "\u001b[1;31m---------------------------------------------------------------------------\u001b[0m",
      "\u001b[1;31mPermissionError\u001b[0m                           Traceback (most recent call last)",
      "Input \u001b[1;32mIn [34]\u001b[0m, in \u001b[0;36m<cell line: 6>\u001b[1;34m()\u001b[0m\n\u001b[0;32m      8\u001b[0m file \u001b[38;5;241m=\u001b[39m glob\u001b[38;5;241m.\u001b[39mglob(\u001b[38;5;124mf\u001b[39m\u001b[38;5;124m'\u001b[39m\u001b[38;5;132;01m{\u001b[39;00ma\u001b[38;5;132;01m}\u001b[39;00m\u001b[38;5;124m/*.xlsx\u001b[39m\u001b[38;5;124m'\u001b[39m)\n\u001b[0;32m     10\u001b[0m \u001b[38;5;28;01mfor\u001b[39;00m i \u001b[38;5;129;01min\u001b[39;00m file:\n\u001b[1;32m---> 12\u001b[0m     df \u001b[38;5;241m=\u001b[39m \u001b[43mpd\u001b[49m\u001b[38;5;241;43m.\u001b[39;49m\u001b[43mread_excel\u001b[49m\u001b[43m(\u001b[49m\u001b[43mi\u001b[49m\u001b[43m,\u001b[49m\u001b[43m \u001b[49m\u001b[43mheader\u001b[49m\u001b[38;5;241;43m=\u001b[39;49m\u001b[38;5;28;43;01mNone\u001b[39;49;00m\u001b[43m)\u001b[49m\n\u001b[0;32m     13\u001b[0m     df \u001b[38;5;241m=\u001b[39m df[\u001b[38;5;241m4\u001b[39m:]\n\u001b[0;32m     14\u001b[0m     data_body \u001b[38;5;241m=\u001b[39m df\u001b[38;5;241m.\u001b[39miloc[:, :\u001b[38;5;241m63\u001b[39m]\n",
      "File \u001b[1;32m~\\anaconda3\\lib\\site-packages\\pandas\\util\\_decorators.py:311\u001b[0m, in \u001b[0;36mdeprecate_nonkeyword_arguments.<locals>.decorate.<locals>.wrapper\u001b[1;34m(*args, **kwargs)\u001b[0m\n\u001b[0;32m    305\u001b[0m \u001b[38;5;28;01mif\u001b[39;00m \u001b[38;5;28mlen\u001b[39m(args) \u001b[38;5;241m>\u001b[39m num_allow_args:\n\u001b[0;32m    306\u001b[0m     warnings\u001b[38;5;241m.\u001b[39mwarn(\n\u001b[0;32m    307\u001b[0m         msg\u001b[38;5;241m.\u001b[39mformat(arguments\u001b[38;5;241m=\u001b[39marguments),\n\u001b[0;32m    308\u001b[0m         \u001b[38;5;167;01mFutureWarning\u001b[39;00m,\n\u001b[0;32m    309\u001b[0m         stacklevel\u001b[38;5;241m=\u001b[39mstacklevel,\n\u001b[0;32m    310\u001b[0m     )\n\u001b[1;32m--> 311\u001b[0m \u001b[38;5;28;01mreturn\u001b[39;00m func(\u001b[38;5;241m*\u001b[39margs, \u001b[38;5;241m*\u001b[39m\u001b[38;5;241m*\u001b[39mkwargs)\n",
      "File \u001b[1;32m~\\anaconda3\\lib\\site-packages\\pandas\\io\\excel\\_base.py:457\u001b[0m, in \u001b[0;36mread_excel\u001b[1;34m(io, sheet_name, header, names, index_col, usecols, squeeze, dtype, engine, converters, true_values, false_values, skiprows, nrows, na_values, keep_default_na, na_filter, verbose, parse_dates, date_parser, thousands, decimal, comment, skipfooter, convert_float, mangle_dupe_cols, storage_options)\u001b[0m\n\u001b[0;32m    455\u001b[0m \u001b[38;5;28;01mif\u001b[39;00m \u001b[38;5;129;01mnot\u001b[39;00m \u001b[38;5;28misinstance\u001b[39m(io, ExcelFile):\n\u001b[0;32m    456\u001b[0m     should_close \u001b[38;5;241m=\u001b[39m \u001b[38;5;28;01mTrue\u001b[39;00m\n\u001b[1;32m--> 457\u001b[0m     io \u001b[38;5;241m=\u001b[39m \u001b[43mExcelFile\u001b[49m\u001b[43m(\u001b[49m\u001b[43mio\u001b[49m\u001b[43m,\u001b[49m\u001b[43m \u001b[49m\u001b[43mstorage_options\u001b[49m\u001b[38;5;241;43m=\u001b[39;49m\u001b[43mstorage_options\u001b[49m\u001b[43m,\u001b[49m\u001b[43m \u001b[49m\u001b[43mengine\u001b[49m\u001b[38;5;241;43m=\u001b[39;49m\u001b[43mengine\u001b[49m\u001b[43m)\u001b[49m\n\u001b[0;32m    458\u001b[0m \u001b[38;5;28;01melif\u001b[39;00m engine \u001b[38;5;129;01mand\u001b[39;00m engine \u001b[38;5;241m!=\u001b[39m io\u001b[38;5;241m.\u001b[39mengine:\n\u001b[0;32m    459\u001b[0m     \u001b[38;5;28;01mraise\u001b[39;00m \u001b[38;5;167;01mValueError\u001b[39;00m(\n\u001b[0;32m    460\u001b[0m         \u001b[38;5;124m\"\u001b[39m\u001b[38;5;124mEngine should not be specified when passing \u001b[39m\u001b[38;5;124m\"\u001b[39m\n\u001b[0;32m    461\u001b[0m         \u001b[38;5;124m\"\u001b[39m\u001b[38;5;124man ExcelFile - ExcelFile already has the engine set\u001b[39m\u001b[38;5;124m\"\u001b[39m\n\u001b[0;32m    462\u001b[0m     )\n",
      "File \u001b[1;32m~\\anaconda3\\lib\\site-packages\\pandas\\io\\excel\\_base.py:1376\u001b[0m, in \u001b[0;36mExcelFile.__init__\u001b[1;34m(self, path_or_buffer, engine, storage_options)\u001b[0m\n\u001b[0;32m   1374\u001b[0m     ext \u001b[38;5;241m=\u001b[39m \u001b[38;5;124m\"\u001b[39m\u001b[38;5;124mxls\u001b[39m\u001b[38;5;124m\"\u001b[39m\n\u001b[0;32m   1375\u001b[0m \u001b[38;5;28;01melse\u001b[39;00m:\n\u001b[1;32m-> 1376\u001b[0m     ext \u001b[38;5;241m=\u001b[39m \u001b[43minspect_excel_format\u001b[49m\u001b[43m(\u001b[49m\n\u001b[0;32m   1377\u001b[0m \u001b[43m        \u001b[49m\u001b[43mcontent_or_path\u001b[49m\u001b[38;5;241;43m=\u001b[39;49m\u001b[43mpath_or_buffer\u001b[49m\u001b[43m,\u001b[49m\u001b[43m \u001b[49m\u001b[43mstorage_options\u001b[49m\u001b[38;5;241;43m=\u001b[39;49m\u001b[43mstorage_options\u001b[49m\n\u001b[0;32m   1378\u001b[0m \u001b[43m    \u001b[49m\u001b[43m)\u001b[49m\n\u001b[0;32m   1379\u001b[0m     \u001b[38;5;28;01mif\u001b[39;00m ext \u001b[38;5;129;01mis\u001b[39;00m \u001b[38;5;28;01mNone\u001b[39;00m:\n\u001b[0;32m   1380\u001b[0m         \u001b[38;5;28;01mraise\u001b[39;00m \u001b[38;5;167;01mValueError\u001b[39;00m(\n\u001b[0;32m   1381\u001b[0m             \u001b[38;5;124m\"\u001b[39m\u001b[38;5;124mExcel file format cannot be determined, you must specify \u001b[39m\u001b[38;5;124m\"\u001b[39m\n\u001b[0;32m   1382\u001b[0m             \u001b[38;5;124m\"\u001b[39m\u001b[38;5;124man engine manually.\u001b[39m\u001b[38;5;124m\"\u001b[39m\n\u001b[0;32m   1383\u001b[0m         )\n",
      "File \u001b[1;32m~\\anaconda3\\lib\\site-packages\\pandas\\io\\excel\\_base.py:1250\u001b[0m, in \u001b[0;36minspect_excel_format\u001b[1;34m(content_or_path, storage_options)\u001b[0m\n\u001b[0;32m   1247\u001b[0m \u001b[38;5;28;01mif\u001b[39;00m \u001b[38;5;28misinstance\u001b[39m(content_or_path, \u001b[38;5;28mbytes\u001b[39m):\n\u001b[0;32m   1248\u001b[0m     content_or_path \u001b[38;5;241m=\u001b[39m BytesIO(content_or_path)\n\u001b[1;32m-> 1250\u001b[0m \u001b[38;5;28;01mwith\u001b[39;00m \u001b[43mget_handle\u001b[49m\u001b[43m(\u001b[49m\n\u001b[0;32m   1251\u001b[0m \u001b[43m    \u001b[49m\u001b[43mcontent_or_path\u001b[49m\u001b[43m,\u001b[49m\u001b[43m \u001b[49m\u001b[38;5;124;43m\"\u001b[39;49m\u001b[38;5;124;43mrb\u001b[39;49m\u001b[38;5;124;43m\"\u001b[39;49m\u001b[43m,\u001b[49m\u001b[43m \u001b[49m\u001b[43mstorage_options\u001b[49m\u001b[38;5;241;43m=\u001b[39;49m\u001b[43mstorage_options\u001b[49m\u001b[43m,\u001b[49m\u001b[43m \u001b[49m\u001b[43mis_text\u001b[49m\u001b[38;5;241;43m=\u001b[39;49m\u001b[38;5;28;43;01mFalse\u001b[39;49;00m\n\u001b[0;32m   1252\u001b[0m \u001b[43m\u001b[49m\u001b[43m)\u001b[49m \u001b[38;5;28;01mas\u001b[39;00m handle:\n\u001b[0;32m   1253\u001b[0m     stream \u001b[38;5;241m=\u001b[39m handle\u001b[38;5;241m.\u001b[39mhandle\n\u001b[0;32m   1254\u001b[0m     stream\u001b[38;5;241m.\u001b[39mseek(\u001b[38;5;241m0\u001b[39m)\n",
      "File \u001b[1;32m~\\anaconda3\\lib\\site-packages\\pandas\\io\\common.py:798\u001b[0m, in \u001b[0;36mget_handle\u001b[1;34m(path_or_buf, mode, encoding, compression, memory_map, is_text, errors, storage_options)\u001b[0m\n\u001b[0;32m    789\u001b[0m         handle \u001b[38;5;241m=\u001b[39m \u001b[38;5;28mopen\u001b[39m(\n\u001b[0;32m    790\u001b[0m             handle,\n\u001b[0;32m    791\u001b[0m             ioargs\u001b[38;5;241m.\u001b[39mmode,\n\u001b[1;32m   (...)\u001b[0m\n\u001b[0;32m    794\u001b[0m             newline\u001b[38;5;241m=\u001b[39m\u001b[38;5;124m\"\u001b[39m\u001b[38;5;124m\"\u001b[39m,\n\u001b[0;32m    795\u001b[0m         )\n\u001b[0;32m    796\u001b[0m     \u001b[38;5;28;01melse\u001b[39;00m:\n\u001b[0;32m    797\u001b[0m         \u001b[38;5;66;03m# Binary mode\u001b[39;00m\n\u001b[1;32m--> 798\u001b[0m         handle \u001b[38;5;241m=\u001b[39m \u001b[38;5;28;43mopen\u001b[39;49m\u001b[43m(\u001b[49m\u001b[43mhandle\u001b[49m\u001b[43m,\u001b[49m\u001b[43m \u001b[49m\u001b[43mioargs\u001b[49m\u001b[38;5;241;43m.\u001b[39;49m\u001b[43mmode\u001b[49m\u001b[43m)\u001b[49m\n\u001b[0;32m    799\u001b[0m     handles\u001b[38;5;241m.\u001b[39mappend(handle)\n\u001b[0;32m    801\u001b[0m \u001b[38;5;66;03m# Convert BytesIO or file objects passed with an encoding\u001b[39;00m\n",
      "\u001b[1;31mPermissionError\u001b[0m: [Errno 13] Permission denied: 'C:/Users/Tipu Sultan/OneDrive/Desktop/Data Analyst Traning/21/dirty/tipu\\\\01-January\\\\~$MIS of 02.01.2021.xlsx'"
     ]
    }
   ],
   "source": [
    "folder_list = glob.glob('C:/Users/Tipu Sultan/OneDrive/Desktop/Data Analyst Traning/21/dirty/tipu/*')\n",
    "file= glob.glob('C:/Users/Tipu Sultan/OneDrive/Desktop/Data Analyst Traning/21/dirty/tipu/01-January/*.xlsx')\n",
    "\n",
    "#i = 'C:/Users/Tipu Sultan/OneDrive/Desktop/Data Analyst Traning/21/dirty/tipu/01-January/MIS of 02.01.2021.xlsx'\n",
    "\n",
    "for a in folder_list:\n",
    "    \n",
    "    file = glob.glob(f'{a}/*.xlsx')\n",
    "\n",
    "    for i in file:\n",
    "\n",
    "        df = pd.read_excel(i, header=None)\n",
    "        df = df[4:]\n",
    "        data_body = df.iloc[:, :63]\n",
    "\n",
    "        date= i.split('/')[-1].split(' ')[2].split('.')[0]\n",
    "        month= i.split('/')[-1].split(' ')[2].split('.')[1]\n",
    "        year= i.split('/')[-1].split(' ')[2].split('.')[2]\n",
    "\n",
    "        constracted_date = f'{year}-{month}-{date}'\n",
    "\n",
    "        # Concatenate values in columns 9 to 12\n",
    "        temp = data_body.iloc[0:2, 9:13].astype(str)\n",
    "        data_body.iloc[0, 9] = temp.iloc[0, 0] + \" \" + temp.iloc[1, 0]\n",
    "        data_body.iloc[0, 10] = temp.iloc[0, 1] + \" \" + temp.iloc[1, 1]\n",
    "        data_body.iloc[0, 11] = temp.iloc[0, 2] + \" \" + temp.iloc[1, 2]\n",
    "        data_body.iloc[0, 12] = temp.iloc[0, 3] + \" \" + temp.iloc[1, 3]\n",
    "\n",
    "        # Iterate over the columns in the dataframe\n",
    "        for i in range(16, min(64, data_body.shape[1])):\n",
    "            # Check if the column has an integer data type\n",
    "            if data_body.iloc[:, i].dtype == 'int':\n",
    "                # Sum the first and second row values and convert to string\n",
    "                row_sum = str(data_body.iloc[0, i] + data_body.iloc[1, i])\n",
    "                # Update the first row with the sum of first and second row values\n",
    "                data_body.iloc[0, i] = row_sum\n",
    "            else:\n",
    "                # If the column does not have integer data type and second row is not empty, concatenate the first and second row values with \" \"\n",
    "                if not pd.isna(data_body.iloc[1, i]):\n",
    "                    data_body.iloc[0, i] = str(data_body.iloc[0, i]) + \" to \" + str(data_body.iloc[1, i])\n",
    "                else:\n",
    "                    # If the column does not have integer data type and second row is empty, print the first row\n",
    "                    data_body.iloc[0, i] = str(data_body.iloc[0, i])\n",
    "\n",
    "\n",
    "        data_body.columns =data_body.iloc[0]\n",
    "        data_body = data_body.tail(-2)\n",
    "\n",
    "        # identify the columns with NaN column names\n",
    "        nan_cols = data_body.columns[data_body.columns.str.lower() == 'nan']\n",
    "\n",
    "        # drop the columns with NaN column names\n",
    "        data_body.drop(nan_cols, axis=1, inplace=True)\n",
    "\n",
    "        data_body['Floor'] = data_body['Floor'].ffill(axis=0)\n",
    "\n",
    "        data_body['Line'] = data_body['Line'].ffill(axis=0)\n",
    "\n",
    "        data_body = data_body[data_body['Line'].str.contains('L-') & data_body['Buyer '].notnull() == True]\n",
    "\n",
    "        data_body.insert(loc = 0, column = 'Date', value = constracted_date )\n",
    "        data_body.to_csv(f'data/process_{constracted_date}.csv', index = False)\n",
    "        print(f'Exported complete file_{constracted_date}.csv')\n",
    "\n",
    "\n",
    "print('Export Done!!!') \n",
    "\n"
   ]
  },
  {
   "cell_type": "markdown",
   "id": "7d7b61c5",
   "metadata": {},
   "source": [
    "Appending Data"
   ]
  },
  {
   "cell_type": "code",
   "execution_count": 15,
   "id": "7f0a24a0",
   "metadata": {},
   "outputs": [
    {
     "name": "stdout",
     "output_type": "stream",
     "text": [
      "Exported complete file_total append\n"
     ]
    }
   ],
   "source": [
    "process_file= glob.glob('data/*.csv')\n",
    "dfs=[]\n",
    "for filename in process_file:\n",
    "    dfs.append(pd.read_csv(filename))\n",
    "    \n",
    "big_frame = pd.concat(dfs, ignore_index= True)    \n",
    "\n",
    "big_frame.to_csv(f'data/process_total.csv', index = False)\n",
    "\n",
    "print(f'Exported complete file_total append')"
   ]
  },
  {
   "cell_type": "code",
   "execution_count": null,
   "id": "582857f8",
   "metadata": {},
   "outputs": [],
   "source": []
  },
  {
   "cell_type": "code",
   "execution_count": null,
   "id": "14c2f5d3",
   "metadata": {},
   "outputs": [],
   "source": []
  },
  {
   "cell_type": "code",
   "execution_count": null,
   "id": "025c732a",
   "metadata": {},
   "outputs": [],
   "source": []
  },
  {
   "cell_type": "code",
   "execution_count": null,
   "id": "ad39ff41",
   "metadata": {},
   "outputs": [],
   "source": []
  },
  {
   "cell_type": "code",
   "execution_count": null,
   "id": "970a5596",
   "metadata": {},
   "outputs": [],
   "source": []
  },
  {
   "cell_type": "code",
   "execution_count": null,
   "id": "1ea88aa7",
   "metadata": {},
   "outputs": [],
   "source": []
  },
  {
   "cell_type": "code",
   "execution_count": null,
   "id": "c2a4b95b",
   "metadata": {},
   "outputs": [],
   "source": []
  },
  {
   "cell_type": "code",
   "execution_count": 70,
   "id": "88c8787d",
   "metadata": {},
   "outputs": [],
   "source": []
  },
  {
   "cell_type": "code",
   "execution_count": null,
   "id": "9fa4dc81",
   "metadata": {},
   "outputs": [],
   "source": []
  },
  {
   "cell_type": "code",
   "execution_count": null,
   "id": "f79135b1",
   "metadata": {},
   "outputs": [],
   "source": []
  },
  {
   "cell_type": "code",
   "execution_count": null,
   "id": "ea788c1f",
   "metadata": {},
   "outputs": [],
   "source": []
  }
 ],
 "metadata": {
  "kernelspec": {
   "display_name": "Python 3 (ipykernel)",
   "language": "python",
   "name": "python3"
  },
  "language_info": {
   "codemirror_mode": {
    "name": "ipython",
    "version": 3
   },
   "file_extension": ".py",
   "mimetype": "text/x-python",
   "name": "python",
   "nbconvert_exporter": "python",
   "pygments_lexer": "ipython3",
   "version": "3.9.12"
  }
 },
 "nbformat": 4,
 "nbformat_minor": 5
}
